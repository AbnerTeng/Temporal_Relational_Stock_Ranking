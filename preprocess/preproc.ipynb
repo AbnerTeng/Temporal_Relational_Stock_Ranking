{
 "cells": [
  {
   "cell_type": "code",
   "execution_count": 3,
   "id": "4ac5d1c7",
   "metadata": {},
   "outputs": [],
   "source": [
    "import os\n",
    "\n",
    "import pandas as pd"
   ]
  },
  {
   "cell_type": "code",
   "execution_count": 5,
   "id": "ad7812be",
   "metadata": {},
   "outputs": [],
   "source": [
    "paths = [\n",
    "    f for f in os.listdir(\"../data/google_finance\") if f.startswith(\"NASDAQ\")\n",
    "]"
   ]
  },
  {
   "cell_type": "code",
   "execution_count": 19,
   "id": "6727afbb",
   "metadata": {},
   "outputs": [],
   "source": [
    "df = pd.read_csv(f\"../data/google_finance/{paths[0]}\")\n",
    "tickers_list = [f.split(\".\")[0].split(\"_\")[:-1] for f in os.listdir(\"../data/2013-01-01-v2\") if f.endswith(\".csv\")]\n",
    "tickers_list = [\"_\".join(ticker) for ticker in tickers_list]"
   ]
  },
  {
   "cell_type": "code",
   "execution_count": 20,
   "id": "7430bc98",
   "metadata": {},
   "outputs": [
    {
     "data": {
      "text/plain": [
       "'NASDAQ_AMWD'"
      ]
     },
     "execution_count": 20,
     "metadata": {},
     "output_type": "execute_result"
    }
   ],
   "source": [
    "tickers_list[0]"
   ]
  },
  {
   "cell_type": "code",
   "execution_count": 31,
   "id": "deca129c",
   "metadata": {},
   "outputs": [
    {
     "name": "stderr",
     "output_type": "stream",
     "text": [
      "100%|██████████| 3273/3273 [00:20<00:00, 160.26it/s]\n"
     ]
    }
   ],
   "source": [
    "from tqdm import tqdm\n",
    "\n",
    "for f in tqdm(paths):\n",
    "    df = pd.read_csv(f\"../data/google_finance/{f}\")\n",
    "    df.rename(columns={\"Unnamed: 0\": \"Date\"}, inplace=True)\n",
    "    df[\"Date\"] = df[\"Date\"].apply(lambda x: x.split(\" \")[0])\n",
    "    # df[\"Date\"] = df[\"Date\"].replace(\"-05:00\", \"\", regex=True)\n",
    "    # df[\"Date\"] = df[\"Date\"].replace(\"-04:00\", \"\", regex=True)\n",
    "    # df[\"Date\"] = pd.to_datetime(df[\"Date\"], format=\"%Y-%m-%d %H:%M:%S\")\n",
    "    df[\"Date\"] = pd.to_datetime(df[\"Date\"], format=\"%Y-%m-%d\")\n",
    "    f_top_2 = \"_\".join(f.split(\".\")[0].split(\"_\")[:-1])\n",
    "    df = df[df[\"Date\"] >= \"2013-01-02\"].reset_index(drop=True)\n",
    "    if f_top_2 in tickers_list:\n",
    "        df.to_csv(f\"../data/2013-01-01-v3/{f_top_2}.csv\", index=False)"
   ]
  }
 ],
 "metadata": {
  "kernelspec": {
   "display_name": "Python 3",
   "language": "python",
   "name": "python3"
  },
  "language_info": {
   "codemirror_mode": {
    "name": "ipython",
    "version": 3
   },
   "file_extension": ".py",
   "mimetype": "text/x-python",
   "name": "python",
   "nbconvert_exporter": "python",
   "pygments_lexer": "ipython3",
   "version": "3.9.6"
  }
 },
 "nbformat": 4,
 "nbformat_minor": 5
}
